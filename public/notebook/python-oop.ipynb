{
 "cells": [
  {
   "cell_type": "markdown",
   "id": "a91b5d20-1f03-4f40-9c04-503f13555375",
   "metadata": {},
   "source": [
    "## Python 面向对象编程"
   ]
  },
  {
   "cell_type": "markdown",
   "id": "daf0001d-de9e-4449-94d8-d0045ca90ca3",
   "metadata": {},
   "source": [
    "定义类和方法"
   ]
  },
  {
   "cell_type": "code",
   "execution_count": 1,
   "id": "54276cbd-3b08-42c0-8bd4-12bd9392cb48",
   "metadata": {},
   "outputs": [],
   "source": [
    "class Rectangle():\n",
    "    def __init__ (self,w,h):\n",
    "        self.width = w\n",
    "        self.height = h\n",
    "\n",
    "    # 计算矩形面积\n",
    "    def area(self):  \n",
    "        return self.width * self.height\n",
    "\n",
    "    # 将矩形长宽进行缩放\n",
    "    def scale(self,factor):\n",
    "        return Rectangle(factor*self.width,factor*self.height)\n",
    "\n",
    "    # 描述 == 运算符在一个类的实例上的行为，决定两个实例何时相等。\n",
    "    # 如果没有实现自定义的相等方法，一个类的不同实例即使包含相同的数据也总是不相等\n",
    "    def __eq__ (self,other):\n",
    "        return self.width == other.width and self.height == other.height\n",
    "  \n",
    "    # 产生一个对象的默认字符串表示\n",
    "    def __repr__(self):\n",
    "        return \"Rectangle (%r by %r)\" % (self.width, self.height)\n",
    "\n",
    "    # 描述了一个类对于乘法运算符* 的行为，分别作用于左边和右边。\n",
    "    def __mul__(self,factor):\n",
    "        return self.scale(factor)\n",
    "        \n",
    "    def __rmul__(self,factor):\n",
    "        return self.scale(factor)\n",
    "\n",
    "    # 类方法 标记\n",
    "    @classmethod\n",
    "    def square(cls,side):\n",
    "        return Rectangle(side,side)"
   ]
  },
  {
   "cell_type": "code",
   "execution_count": 2,
   "id": "f147d42c-f897-47f4-8e61-4affe52f1488",
   "metadata": {},
   "outputs": [],
   "source": [
    "r = Rectangle(3,4)"
   ]
  },
  {
   "cell_type": "code",
   "execution_count": 3,
   "id": "289de280-de9d-4028-89c3-45dce5518073",
   "metadata": {},
   "outputs": [
    {
     "data": {
      "text/plain": [
       "__main__.Rectangle"
      ]
     },
     "execution_count": 3,
     "metadata": {},
     "output_type": "execute_result"
    }
   ],
   "source": [
    "type(r)"
   ]
  },
  {
   "cell_type": "code",
   "execution_count": 4,
   "id": "0f5da0e2-0413-4cd2-8772-1e9a2adf18b8",
   "metadata": {},
   "outputs": [
    {
     "data": {
      "text/plain": [
       "3"
      ]
     },
     "execution_count": 4,
     "metadata": {},
     "output_type": "execute_result"
    }
   ],
   "source": [
    "r.width"
   ]
  },
  {
   "cell_type": "code",
   "execution_count": 5,
   "id": "d1dd4a61-45de-499f-b9c1-07fcee045a7d",
   "metadata": {},
   "outputs": [
    {
     "data": {
      "text/plain": [
       "4"
      ]
     },
     "execution_count": 5,
     "metadata": {},
     "output_type": "execute_result"
    }
   ],
   "source": [
    "r.height"
   ]
  },
  {
   "cell_type": "code",
   "execution_count": 6,
   "id": "5e6f3d3c-a946-4b7e-86d1-6fb3f44ec1c1",
   "metadata": {},
   "outputs": [
    {
     "data": {
      "text/plain": [
       "12"
      ]
     },
     "execution_count": 6,
     "metadata": {},
     "output_type": "execute_result"
    }
   ],
   "source": [
    "r.area()  # 计算矩形的面积"
   ]
  },
  {
   "cell_type": "code",
   "execution_count": 7,
   "id": "9af3942a-b9ba-45b3-9693-539b8c2aeafa",
   "metadata": {},
   "outputs": [
    {
     "data": {
      "text/plain": [
       "12"
      ]
     },
     "execution_count": 7,
     "metadata": {},
     "output_type": "execute_result"
    }
   ],
   "source": [
    "Rectangle(3,4).area()"
   ]
  },
  {
   "cell_type": "markdown",
   "id": "607b73bc-f5a0-4e0d-a775-3ef2b9bbcd84",
   "metadata": {},
   "source": [
    "## 类的特殊方法\n",
    "\n",
    "`__dict__` 返回该实例的所有属性的字典\n",
    "\n",
    "`__eq__` 用于描述 `==` 运算符在一个类的实例上的行为，决定两个实例何时相等。\n",
    "\n",
    "`__rept__` 定义对象的默认字符串表示\n"
   ]
  },
  {
   "cell_type": "code",
   "execution_count": 8,
   "id": "1f409dfc-4cda-4d93-9a6a-c35c2792235e",
   "metadata": {},
   "outputs": [
    {
     "data": {
      "text/plain": [
       "{'width': 3, 'height': 4}"
      ]
     },
     "execution_count": 8,
     "metadata": {},
     "output_type": "execute_result"
    }
   ],
   "source": [
    "Rectangle(3,4).__dict__"
   ]
  },
  {
   "cell_type": "code",
   "execution_count": 9,
   "id": "c044cec8-f867-44d5-9b81-6d02c21f3cd4",
   "metadata": {},
   "outputs": [
    {
     "data": {
      "text/plain": [
       "True"
      ]
     },
     "execution_count": 9,
     "metadata": {},
     "output_type": "execute_result"
    }
   ],
   "source": [
    "Rectangle(3,4) == Rectangle(3,4)"
   ]
  },
  {
   "cell_type": "code",
   "execution_count": 10,
   "id": "0c44fb58-5ffd-4054-97d1-e3bf07fd03bc",
   "metadata": {},
   "outputs": [
    {
     "data": {
      "text/plain": [
       "Rectangle (3 by 4)"
      ]
     },
     "execution_count": 10,
     "metadata": {},
     "output_type": "execute_result"
    }
   ],
   "source": [
    "Rectangle(3,4)"
   ]
  },
  {
   "cell_type": "markdown",
   "id": "38431c09-4bfd-4545-b8c6-a940aca4e4ef",
   "metadata": {},
   "source": [
    "未定义 `__repr__(self)`时，调用 Rectangle(3,4) 输出\n",
    "\n",
    "```\n",
    "<__main__.Rectangle at 0x24521268290>\n",
    "```\n",
    "\n",
    "定义`__repr__(self)`后，调用 Rectangle(3,4) 输出\n",
    "\n",
    "```\n",
    "Rectangle (3 by 4)\n",
    "```"
   ]
  },
  {
   "cell_type": "markdown",
   "id": "d3681e47-817e-45e2-96e1-77a550c62ccd",
   "metadata": {},
   "source": [
    "## 运算符重载\n",
    "\n",
    "`__mul__` 和 `__rmul__` 方法描述了一个类对于乘法运算符* 的行为，分别作用于左边和右边。"
   ]
  },
  {
   "cell_type": "code",
   "execution_count": 11,
   "id": "1bc8d967-251d-4c87-b296-e6b94abc7785",
   "metadata": {},
   "outputs": [
    {
     "data": {
      "text/plain": [
       "Rectangle (10 by 20)"
      ]
     },
     "execution_count": 11,
     "metadata": {},
     "output_type": "execute_result"
    }
   ],
   "source": [
    "10 * Rectangle(1,2)"
   ]
  },
  {
   "cell_type": "code",
   "execution_count": 12,
   "id": "48b87cae-b16e-41fb-8f1c-325d91fc96dd",
   "metadata": {},
   "outputs": [
    {
     "data": {
      "text/plain": [
       "Rectangle (10 by 20)"
      ]
     },
     "execution_count": 12,
     "metadata": {},
     "output_type": "execute_result"
    }
   ],
   "source": [
    "Rectangle(1,2) * 10"
   ]
  },
  {
   "cell_type": "markdown",
   "id": "1dca7af1-ab4d-4625-9de9-67360d1d47c6",
   "metadata": {},
   "source": [
    "## 类方法\n",
    "\n",
    "方法是只能与类的实例一起运行的函数\n",
    "类方法 (class method)：它是附属于类本身，而不是单个实例。\n",
    "\n",
    "对于 Rectangle 类来说，类方法将包含一些与一般矩形的方法，而不是与特定矩形有关的功能\n",
    "\n",
    "```py\n",
    "class Rectangle():\n",
    "    ...\n",
    "\n",
    "    @classmethod\n",
    "    def square(cls,side):\n",
    "        return Rectangle(side,side)\n",
    "```"
   ]
  },
  {
   "cell_type": "code",
   "execution_count": 13,
   "id": "3e6d4b86-30a2-45ad-a4bb-a76125fc08ea",
   "metadata": {},
   "outputs": [
    {
     "data": {
      "text/plain": [
       "Rectangle (5 by 5)"
      ]
     },
     "execution_count": 13,
     "metadata": {},
     "output_type": "execute_result"
    }
   ],
   "source": [
    "Rectangle.square(5) # 得到 Rectangle(5,5) 一样的结果"
   ]
  },
  {
   "cell_type": "markdown",
   "id": "383d9414-7027-4953-b450-246d21f35690",
   "metadata": {},
   "source": [
    "## 继承和抽象类\n",
    "\n",
    "继承：类 B 继承自类 A，就像是在说：类 B 的实例是类 A 的特例\n",
    "\n",
    "其工作方式 像类 A 的实例，但有一些额外或修改的功能\n",
    "\n",
    "B是A 的子类 subclass，A是B的超类 superclass\n",
    "\n",
    "从 Rectangle 创建了一个表示正方形的子类 Square，同时保留了 Rectangle 的大部分相同的基本逻辑\n",
    "\n",
    "在子类中调用 `super().__init__` 能从Square构造函数中运行超类（Rectangle）的构造函数"
   ]
  },
  {
   "cell_type": "code",
   "execution_count": 14,
   "id": "db46eabb-15bb-4e84-9a09-a580ed570135",
   "metadata": {},
   "outputs": [],
   "source": [
    "class Square(Rectangle):\n",
    "    def __init__(self,s):\n",
    "        return super().__init__(s,s)\n",
    "\n",
    "    def __repr__(self):\n",
    "        return \"Sequare (%r)\" % self.width"
   ]
  },
  {
   "cell_type": "code",
   "execution_count": 15,
   "id": "05e7473b-6880-45e9-9fdb-d30ecb4d91a9",
   "metadata": {},
   "outputs": [
    {
     "data": {
      "text/plain": [
       "25"
      ]
     },
     "execution_count": 15,
     "metadata": {},
     "output_type": "execute_result"
    }
   ],
   "source": [
    "Square(5).area()"
   ]
  }
 ],
 "metadata": {
  "kernelspec": {
   "display_name": "Python 3 (ipykernel)",
   "language": "python",
   "name": "python3"
  },
  "language_info": {
   "codemirror_mode": {
    "name": "ipython",
    "version": 3
   },
   "file_extension": ".py",
   "mimetype": "text/x-python",
   "name": "python",
   "nbconvert_exporter": "python",
   "pygments_lexer": "ipython3",
   "version": "3.13.2"
  }
 },
 "nbformat": 4,
 "nbformat_minor": 5
}
