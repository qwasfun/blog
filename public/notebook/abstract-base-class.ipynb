{
 "cells": [
  {
   "cell_type": "markdown",
   "id": "7187310f-f948-49e7-9740-833f4eb6bdae",
   "metadata": {},
   "source": [
    "# 抽象基类\n",
    "\n",
    "OOP 中一个常见模式，让两个类继承自同一个**抽象基类**(abstract base class) 也就是定义了一些共同方法或代码的类。但不允许创建它的实例。\n",
    "\n",
    "在程序中处理不同的形状 shape ，可以让 Rectangle，Circle 继承自 一个共同的 Shape 类。但是形状（）的概念不够具体，无法创建它的一个实例，所以只能实现其中的一些方法。其他的方法标记为抽象方法（abstract method），意味着不能将他们实现为Shape类的方法，但可以实现为具体子类的方法。\n",
    "\n",
    "`ABC` 代表 抽象基类（abstract base class） ，在 Python 中 ABC 是任何抽象类都必须继承的特殊基类\n"
   ]
  },
  {
   "cell_type": "code",
   "execution_count": 1,
   "id": "19e601f9-38ed-4a7a-b3cf-1744b9c67f87",
   "metadata": {},
   "outputs": [],
   "source": [
    "from abc import ABC,abstractmethod\n",
    "\n",
    "# `ABC` 代表 抽象基类（abstract base class） ，在 Python 中 ABC 是任何抽象类都必须继承的特殊基类\n",
    "\n",
    "class Shape(ABC):\n",
    "    @abstractmethod\n",
    "    def area():\n",
    "        pass\n",
    "        \n",
    "    @abstractmethod \n",
    "    def scale(self,factor):\n",
    "        pass\n",
    "        \n",
    "    def __eq__ (self,other):\n",
    "        return self.__dict__ == other.__dict__\n",
    "\n",
    "    def __mul__(self,factor):\n",
    "        return self.scale(factor)\n",
    "        \n",
    "    def __rmul__(self,factor):\n",
    "        return self.scale(factor)"
   ]
  },
  {
   "cell_type": "code",
   "execution_count": 2,
   "id": "6b92398c-a107-4b26-b760-00f9af5bddd5",
   "metadata": {},
   "outputs": [],
   "source": [
    "class Rectangle(Shape):\n",
    "    def __init__(self,w,h):\n",
    "        self.width = w\n",
    "        self.height = h\n",
    "\n",
    "    def area(self):\n",
    "        return self.width * self.height\n",
    "    \n",
    "    def scale(self,factor):\n",
    "        return Rectangle(self.width * factor,self.height*factor)\n",
    "\n",
    "    def __repr__(self):\n",
    "        return \"Rectangle (%r by %r)\" % (self.width, self.height)\n",
    "        "
   ]
  },
  {
   "cell_type": "code",
   "execution_count": 3,
   "id": "e5246035-c4ae-49b7-8ee2-dc07f8168ef6",
   "metadata": {},
   "outputs": [
    {
     "data": {
      "text/plain": [
       "Rectangle (1 by 2)"
      ]
     },
     "execution_count": 3,
     "metadata": {},
     "output_type": "execute_result"
    }
   ],
   "source": [
    "Rectangle(1,2)"
   ]
  },
  {
   "cell_type": "code",
   "execution_count": 4,
   "id": "05821f22-4a8c-46e7-8b5f-f5f5c49f1fd7",
   "metadata": {},
   "outputs": [
    {
     "data": {
      "text/plain": [
       "Rectangle (2 by 4)"
      ]
     },
     "execution_count": 4,
     "metadata": {},
     "output_type": "execute_result"
    }
   ],
   "source": [
    "Rectangle(1,2).scale(2)"
   ]
  },
  {
   "cell_type": "code",
   "execution_count": 5,
   "id": "2af94a73-9cb6-488e-9ff1-b9144ac9a2ea",
   "metadata": {},
   "outputs": [
    {
     "data": {
      "text/plain": [
       "12"
      ]
     },
     "execution_count": 5,
     "metadata": {},
     "output_type": "execute_result"
    }
   ],
   "source": [
    "Rectangle(3,4).area()"
   ]
  },
  {
   "cell_type": "code",
   "execution_count": 6,
   "id": "b2b18b68-bc79-4cd7-bd17-470613e7f725",
   "metadata": {},
   "outputs": [],
   "source": [
    "from math import pi\n",
    "\n",
    "class Circle(Shape):\n",
    "    def __init__(self,r):\n",
    "        self.radius = r\n",
    "\n",
    "    def area (self):\n",
    "        return pi * self.radius * self.radius\n",
    "\n",
    "    def scale(self):\n",
    "        return Circle(factor * self.radius)\n",
    "\n",
    "    def __eq__(self,other):\n",
    "        return self.radius == other.radius"
   ]
  },
  {
   "cell_type": "code",
   "execution_count": 7,
   "id": "093fa6e3-bc9c-406c-bc79-83b1c5471564",
   "metadata": {},
   "outputs": [
    {
     "data": {
      "text/plain": [
       "<__main__.Circle at 0x25f8aee4590>"
      ]
     },
     "execution_count": 7,
     "metadata": {},
     "output_type": "execute_result"
    }
   ],
   "source": [
    "Circle(10)"
   ]
  },
  {
   "cell_type": "code",
   "execution_count": 8,
   "id": "a18876da-7dcf-45f0-9788-08d06cfe6a2c",
   "metadata": {},
   "outputs": [
    {
     "data": {
      "text/plain": [
       "314.1592653589793"
      ]
     },
     "execution_count": 8,
     "metadata": {},
     "output_type": "execute_result"
    }
   ],
   "source": [
    "Circle(10).area()"
   ]
  }
 ],
 "metadata": {
  "kernelspec": {
   "display_name": "Python 3 (ipykernel)",
   "language": "python",
   "name": "python3"
  },
  "language_info": {
   "codemirror_mode": {
    "name": "ipython",
    "version": 3
   },
   "file_extension": ".py",
   "mimetype": "text/x-python",
   "name": "python",
   "nbconvert_exporter": "python",
   "pygments_lexer": "ipython3",
   "version": "3.13.2"
  }
 },
 "nbformat": 4,
 "nbformat_minor": 5
}
